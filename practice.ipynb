{
 "metadata": {
  "language_info": {
   "codemirror_mode": {
    "name": "ipython",
    "version": 3
   },
   "file_extension": ".py",
   "mimetype": "text/x-python",
   "name": "python",
   "nbconvert_exporter": "python",
   "pygments_lexer": "ipython3",
   "version": "3.8.6-final"
  },
  "orig_nbformat": 2,
  "kernelspec": {
   "name": "geopandas_env",
   "display_name": "geopandas_env",
   "language": "python"
  }
 },
 "nbformat": 4,
 "nbformat_minor": 2,
 "cells": [
  {
   "cell_type": "code",
   "execution_count": 7,
   "metadata": {},
   "outputs": [
    {
     "output_type": "execute_result",
     "data": {
      "text/plain": [
       "'TUE'"
      ]
     },
     "metadata": {},
     "execution_count": 7
    }
   ],
   "source": [
    "numbers = [1, 1, 1, 1, 1]\n",
    "target = 3\n",
    "\n",
    "def solution(numbers, target):\n",
    "    answer = 0\n",
    "    n = len(numbers)\n",
    "    temp = []*n\n",
    "    case(n)\n",
    "\n",
    "    return answer\n",
    "\n",
    "def case(depth):\n",
    "    if depth == 0:\n",
    "        return temp\n",
    "    else:\n",
    "        temp = numbers[n - depth]\n",
    "        depth = len(numbers) - 1\n",
    "        temp += case(depth)\n",
    "        \n",
    "\n"
   ]
  },
  {
   "cell_type": "code",
   "execution_count": null,
   "metadata": {},
   "outputs": [],
   "source": []
  }
 ]
}